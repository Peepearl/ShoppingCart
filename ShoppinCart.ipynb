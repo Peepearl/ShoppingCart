{
 "cells": [
  {
   "cell_type": "code",
   "execution_count": 1,
   "id": "d0ec1fc3-5149-43a7-b9f7-cc55cb7c878f",
   "metadata": {},
   "outputs": [],
   "source": [
    "class ShoppingCart:\n",
    "    def __init__(self):\n",
    "        self.items = []\n",
    "\n",
    "    def add_items(self, name, price, Quantity):\n",
    "        self.items.append({\"name\": name, \"price\": price, \"Quantity\": Quantity})\n",
    "        print(f'{name} added to cart.')\n",
    "\n",
    "    def remove_items(self, name):\n",
    "        for item in self.items:\n",
    "            if item['name'] == name:\n",
    "                self.items.remove(item)\n",
    "                return f'{name} removed from cart.'\n",
    "        return 'Item not found in cart.'\n",
    "\n",
    "    def total_price(self):\n",
    "        return sum(item['price']* item['Quantity'] for item in self.items)\n",
    "\n",
    "    def view_cart(self):\n",
    "        if not self.items:\n",
    "            print('Your cart is empty.')\n",
    "        else:\n",
    "            print('Items in cart:')\n",
    "            for item in self.items:\n",
    "                print(f\"{item['name']}: #{item['price']}\")\n",
    "            print(f\"Total: #{self.total_price()}\")\n"
   ]
  },
  {
   "cell_type": "code",
   "execution_count": 3,
   "id": "643d364a-4c8b-4829-b81a-31588dc9e1f0",
   "metadata": {},
   "outputs": [
    {
     "name": "stdout",
     "output_type": "stream",
     "text": [
      "Apples added to cart.\n"
     ]
    },
    {
     "data": {
      "text/plain": [
       "5000"
      ]
     },
     "execution_count": 3,
     "metadata": {},
     "output_type": "execute_result"
    }
   ],
   "source": [
    "cart = ShoppingCart()\n",
    "cart.add_items(\"Apples\", 1000, 5)\n",
    "cart.total_price()"
   ]
  },
  {
   "cell_type": "code",
   "execution_count": null,
   "id": "f2d631ec-bc50-4139-939e-e508ce13c2af",
   "metadata": {},
   "outputs": [],
   "source": []
  }
 ],
 "metadata": {
  "kernelspec": {
   "display_name": "Python [conda env:base] *",
   "language": "python",
   "name": "conda-base-py"
  },
  "language_info": {
   "codemirror_mode": {
    "name": "ipython",
    "version": 3
   },
   "file_extension": ".py",
   "mimetype": "text/x-python",
   "name": "python",
   "nbconvert_exporter": "python",
   "pygments_lexer": "ipython3",
   "version": "3.11.5"
  }
 },
 "nbformat": 4,
 "nbformat_minor": 5
}
